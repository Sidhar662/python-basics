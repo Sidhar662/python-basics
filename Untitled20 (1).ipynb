{
  "nbformat": 4,
  "nbformat_minor": 0,
  "metadata": {
    "colab": {
      "provenance": []
    },
    "kernelspec": {
      "name": "python3",
      "display_name": "Python 3"
    },
    "language_info": {
      "name": "python"
    }
  },
  "cells": [
    {
      "cell_type": "code",
      "source": [],
      "metadata": {
        "id": "BMFHkohICAMR"
      },
      "execution_count": null,
      "outputs": []
    },
    {
      "cell_type": "markdown",
      "source": [
        "Python Basisc Question\n"
      ],
      "metadata": {
        "id": "LGAYrpwdY27f"
      }
    },
    {
      "cell_type": "markdown",
      "source": [
        "1.What is python and why is it popular ?\n",
        "\n",
        ">>Ans :- Python is a powerful, high-level programming language known for its readability and simplicity.It is used to write a code to instruct the Computer. It is way to communicate with computer.\n",
        "\n",
        "Python is popular Because of its versatality,Simplicity,Good ecosystem.\n",
        "\n",
        "\n",
        "2.What are interpreter in python ?\n",
        "\n",
        ">>Ans.Interpreter in python help the Computer to execute the code in simple words we can  Say that make the Code understandable to computer.\n",
        "\n",
        "3.What are pre-defined keywords in python?\n",
        "\n",
        ">>Ans Keywords in python are resrved words which hold special function to perfom.these cannot be used as variable. Examples of Keywords are: True False , if , else etc.\n",
        "\n",
        "4.Can keywords be used as a Variable names ?\n",
        "\n",
        ">> Ans. No, keyword cannot be used as viriable names Because keywords already hold some meaning in python.\n",
        "\n",
        "5.what are mutability in python ?\n",
        "\n",
        ">> Mutability inpython means to change , add and remove something in variable. For example in list the are three character We want to replace one charcter with another one the process of changing is called mutabilty.\n",
        "\n",
        "6. Why are list mutable, but tuples are immutable ?\n",
        "\n",
        ">>Ans.List are mutable because we can change the charcter from the list but tuples are immutable because once tuples are created we cannot changed the Tuples This is difference of list and tuples as well.\n",
        "\n",
        "8.what are logical operators in python ?\n",
        "\n",
        ">>Ans. Logical operators in Python are used to combine conditional statements, allowing you to perform operations based on multiple conditions. These operators are essential for controlling the flow of a program and making decisions based on various conditions\n",
        "\n",
        "exanple of Logical operators are ; and , or , not .\n",
        "\n",
        "9.What is the type casting in python ?\n",
        "\n",
        ">>Ans. Type casting is the process to convert one data Type into Another data type for Example converting the integer value in string is Called Type Casting.\n",
        "\n",
        "10. What is implicit and explict  type casting ?\n",
        "\n",
        ">>Ans..Implicit type conversion  happens automatically when a value is copied to its compatible data type. During conversion, strict rules for type conversion are applied. while on other hand Implicit type casting means conversion of data types without losing its original meaning. This type of typecasting is essential when you want to change data types without changing the significance of the values stored inside the variable .\n",
        "\n",
        "\n",
        "11. What is the purpose of conditional statement in python ?\n",
        "\n",
        ">> Ans Under the conditional statement a Specific condition got applied in which code executed If condition not satisfied then it will Show another another behaviours. EXAMPLE Of Conditonal Statements are : If , else elif etc.\n",
        "\n",
        "\n",
        "12. How does the elif statement Work /\n",
        "\n",
        ">>Ans . Elif condition is used to check multiple condition when if condition true whenever elif condition got true if will execute the block and remaining condition will not be execute.\n",
        "\n",
        "\n",
        "13.What are the difference between for and while loops ?\n",
        "\n",
        ">>Ans. while loop is used when we dont know the number of iterations on the other hand for loop is use when we know the number of iterations.\n",
        "\n",
        "14.Describe a scenario where a while loop is more suitable than a for loop.\n",
        "\n",
        ">>Ans. While loop is used when we dont know  in advance in how many times the loop should  continue based on condition.\n",
        "\n",
        "Scenario ::  Product_Code = \"1234\"\n",
        "             while Product_code:\n",
        "                print(Price 100)\n",
        "                else:\n",
        "                  print(Contact with operator)\n",
        "\n",
        "\n"
      ],
      "metadata": {
        "id": "F2H_cF-ZYF5u"
      }
    },
    {
      "cell_type": "code",
      "source": [
        "#Practical Questions\n",
        "\n"
      ],
      "metadata": {
        "id": "kvtI2RTVt5CK"
      },
      "execution_count": 1,
      "outputs": []
    },
    {
      "cell_type": "code",
      "source": [
        "#.1. Write a Python program to print \"Hello, World!\n",
        "print(\"Hello World\")"
      ],
      "metadata": {
        "colab": {
          "base_uri": "https://localhost:8080/"
        },
        "id": "i4AMK4Lnt-AW",
        "outputId": "8d34ef43-7e9a-4930-9f3b-4796df521e0c"
      },
      "execution_count": 2,
      "outputs": [
        {
          "output_type": "stream",
          "name": "stdout",
          "text": [
            "Hello World\n"
          ]
        }
      ]
    },
    {
      "cell_type": "code",
      "source": [
        "from typing_extensions import AsyncGenerator\n",
        "# 2. Write a Python program that displays your name and Age.\n",
        "Name = \"Bittu Kumar\"\n",
        "Age = 22\n",
        "print(Name,Age)"
      ],
      "metadata": {
        "colab": {
          "base_uri": "https://localhost:8080/"
        },
        "id": "__QxNB9AuFv9",
        "outputId": "e0278513-eb65-4a87-fb5d-1dfc6a15acbc"
      },
      "execution_count": 5,
      "outputs": [
        {
          "output_type": "stream",
          "name": "stdout",
          "text": [
            "Bittu Kumar 22\n"
          ]
        }
      ]
    },
    {
      "cell_type": "code",
      "source": [
        "#3. Write code to print all the pre-defined keywords in Python using the keyword library\n",
        "\n",
        "import keyword\n",
        "print(keyword.kwlist)\n"
      ],
      "metadata": {
        "colab": {
          "base_uri": "https://localhost:8080/"
        },
        "id": "9vCOOU5_uutZ",
        "outputId": "c7cbad42-ed24-4dce-97b1-98158021e501"
      },
      "execution_count": 7,
      "outputs": [
        {
          "output_type": "stream",
          "name": "stdout",
          "text": [
            "['False', 'None', 'True', 'and', 'as', 'assert', 'async', 'await', 'break', 'class', 'continue', 'def', 'del', 'elif', 'else', 'except', 'finally', 'for', 'from', 'global', 'if', 'import', 'in', 'is', 'lambda', 'nonlocal', 'not', 'or', 'pass', 'raise', 'return', 'try', 'while', 'with', 'yield']\n"
          ]
        }
      ]
    },
    {
      "cell_type": "code",
      "source": [
        "#4.Write a pogram that checks if a given word is a Python keyword.\n",
        "import keyword\n",
        "list = keyword.kwlist\n",
        "word = input(\"enter a word:\")\n",
        "if word in list:\n",
        "  print(word,\"is a keyword\")\n",
        "else:\n",
        "  print(word,\"is not a keyword\")"
      ],
      "metadata": {
        "colab": {
          "base_uri": "https://localhost:8080/"
        },
        "id": "mvKtxM0-vn06",
        "outputId": "eef5d4fe-b571-4d6a-d5c8-6d8814784fc4"
      },
      "execution_count": 11,
      "outputs": [
        {
          "output_type": "stream",
          "name": "stdout",
          "text": [
            "enter a word:and\n",
            "and is a keyword\n"
          ]
        }
      ]
    },
    {
      "cell_type": "code",
      "source": [
        "#5. Write a function to demonstrate the behavior of mutable and immutable arguments.\n",
        "\n",
        "def check(t_list):\n",
        "  t_list[0]= 0\n",
        "  if t_list == o_list:\n",
        "    print(\"mutable\")\n",
        "    print(t_list)\n",
        "  else:\n",
        "    print(\"immutable\")\n",
        "o_list = input(\"enter a number:\")\n",
        "o_list = o_list.split(\",\")\n",
        "tuple_list = [(x,) for x in o_list]\n",
        "print(tuple_list)\n",
        "check(tuple_list)\n"
      ],
      "metadata": {
        "colab": {
          "base_uri": "https://localhost:8080/"
        },
        "id": "HZN-YIhmwYtW",
        "outputId": "95aa92ea-5bfc-403d-ce84-111d5bd857c1"
      },
      "execution_count": 24,
      "outputs": [
        {
          "output_type": "stream",
          "name": "stdout",
          "text": [
            "enter a number:1,2,3,4,5\n",
            "[('1',), ('2',), ('3',), ('4',), ('5',)]\n",
            "immutable\n"
          ]
        }
      ]
    },
    {
      "cell_type": "code",
      "source": [
        "# Write a program that performs basic arithmetic operations on two user-input numbers\n",
        "\n",
        "n1 = int(input(\"enter a first number : \"))\n",
        "n2 = int(input(\"enter a second number : \"))\n",
        "print(n1+n2)\n",
        "print(n1-n2)\n",
        "print(n1*n2)\n",
        "print(n1/n2)"
      ],
      "metadata": {
        "colab": {
          "base_uri": "https://localhost:8080/"
        },
        "id": "ScG6wncayMSq",
        "outputId": "636cb896-3e4d-4da1-87b1-139e00cc8d99"
      },
      "execution_count": 30,
      "outputs": [
        {
          "output_type": "stream",
          "name": "stdout",
          "text": [
            "enter a first number : 25\n",
            "enter a second number : 5\n",
            "30\n",
            "20\n",
            "125\n",
            "5.0\n"
          ]
        }
      ]
    },
    {
      "cell_type": "code",
      "source": [
        "#8. Write a program to demonstrate the use of logical operators\n",
        "n = 85\n",
        "if n > 50 and n < 100:\n",
        "  print(\"and=\",n)\n",
        "\n",
        "if n > 50 or n == 100:\n",
        "  print(\"or=\",n)"
      ],
      "metadata": {
        "colab": {
          "base_uri": "https://localhost:8080/"
        },
        "id": "pusK7CjL0NVH",
        "outputId": "635de363-13ba-4c54-ad23-abc3be55ed48"
      },
      "execution_count": 37,
      "outputs": [
        {
          "output_type": "stream",
          "name": "stdout",
          "text": [
            "and= 85\n",
            "or= 85\n"
          ]
        }
      ]
    },
    {
      "cell_type": "code",
      "source": [
        "#9. Write a Python program to convert user input from string to integer, float, and boolean types\n",
        "n = input(\"enter:\")\n",
        "n = int(n)\n",
        "print(type(n))\n",
        "n = float(n)\n",
        "print(type(n))\n",
        "n = bool(n)\n",
        "print(type(n))"
      ],
      "metadata": {
        "colab": {
          "base_uri": "https://localhost:8080/"
        },
        "id": "eWMb-1gQ1Ocg",
        "outputId": "bea8ff1c-e4d4-41c4-900f-962b44769827"
      },
      "execution_count": 39,
      "outputs": [
        {
          "output_type": "stream",
          "name": "stdout",
          "text": [
            "enter:1\n",
            "<class 'int'>\n",
            "<class 'float'>\n",
            "<class 'bool'>\n"
          ]
        }
      ]
    },
    {
      "cell_type": "code",
      "source": [
        "#10. 10. Write code to demonstrate type casting with list elements\n",
        "list_1 = [1,2,\"amit\",\"Bijay\"]\n",
        "list_1[0]= float(list_1[0])\n",
        "print(list_1)"
      ],
      "metadata": {
        "colab": {
          "base_uri": "https://localhost:8080/"
        },
        "id": "ehdiNZ3h2LFy",
        "outputId": "c040793d-1286-4df1-94b0-0ab9aa4abe96"
      },
      "execution_count": 41,
      "outputs": [
        {
          "output_type": "stream",
          "name": "stdout",
          "text": [
            "[1.0, 2, 'amit', 'Bijay']\n"
          ]
        }
      ]
    },
    {
      "cell_type": "markdown",
      "source": [],
      "metadata": {
        "id": "vB_M8spH27Dg"
      }
    },
    {
      "cell_type": "code",
      "source": [
        "#11.11. Write a program that checks if a number is positive, negative, or zero.\n",
        "\n",
        "m = int(input())\n",
        "if m > 0:\n",
        "  print(\"positive\")\n",
        "elif m < 0:\n",
        "  print(\"negative\")\n",
        "else:\n",
        "  print(\"zero\")"
      ],
      "metadata": {
        "colab": {
          "base_uri": "https://localhost:8080/"
        },
        "id": "Spwjlu9T2wpi",
        "outputId": "32786464-ab13-4da6-b9fc-75727ad37262"
      },
      "execution_count": 48,
      "outputs": [
        {
          "output_type": "stream",
          "name": "stdout",
          "text": [
            "-3\n",
            "negative\n"
          ]
        }
      ]
    },
    {
      "cell_type": "code",
      "source": [
        "#12. 12. Write a for loop to print numbers from 1 to 10.\n",
        "for i in range (0,11):\n",
        "  print(i)"
      ],
      "metadata": {
        "colab": {
          "base_uri": "https://localhost:8080/"
        },
        "id": "xkhIuiFC3Cdl",
        "outputId": "e4798c88-b6f3-46cf-d5fa-f3b3905912a4"
      },
      "execution_count": 49,
      "outputs": [
        {
          "output_type": "stream",
          "name": "stdout",
          "text": [
            "0\n",
            "1\n",
            "2\n",
            "3\n",
            "4\n",
            "5\n",
            "6\n",
            "7\n",
            "8\n",
            "9\n",
            "10\n"
          ]
        }
      ]
    },
    {
      "cell_type": "code",
      "source": [
        "#13. Write a Python program to find the sum of all even numbers between 1 and 50.\n",
        "temp = 0\n",
        "for i in range(1,50):\n",
        "  if i % 2 == 0:\n",
        "    temp = temp + i\n",
        "print(temp)"
      ],
      "metadata": {
        "colab": {
          "base_uri": "https://localhost:8080/"
        },
        "id": "vSsorC1r3uIL",
        "outputId": "b56127ca-a8c9-41dc-9ddc-e48bbbc45b9f"
      },
      "execution_count": 55,
      "outputs": [
        {
          "output_type": "stream",
          "name": "stdout",
          "text": [
            "600\n"
          ]
        }
      ]
    },
    {
      "cell_type": "code",
      "source": [
        "#14.Write a program to reverse a string using a while loop.\n",
        "str = \"bittu\"\n",
        "while len(str) > 0:\n",
        "  print(str[-1],end=\"\")\n",
        "  str = str[:-1]"
      ],
      "metadata": {
        "colab": {
          "base_uri": "https://localhost:8080/"
        },
        "id": "4PjDwVuI3609",
        "outputId": "fea9e732-a2c3-43a0-ce56-32934f50116e"
      },
      "execution_count": 58,
      "outputs": [
        {
          "output_type": "stream",
          "name": "stdout",
          "text": [
            "uttib"
          ]
        }
      ]
    },
    {
      "cell_type": "code",
      "source": [
        "#15.Write a Python program to calculate the factorial of a number provided by the user using a while loop\n",
        "k = int(input(\"enter a number:\"))\n",
        "temp = 1\n",
        "while k > 0:\n",
        "  temp = temp*k\n",
        "  k-=1\n",
        "print(temp)"
      ],
      "metadata": {
        "colab": {
          "base_uri": "https://localhost:8080/"
        },
        "id": "35k7oUy55BIf",
        "outputId": "4181d054-aa8e-43e7-9e60-e8bb61d0883a"
      },
      "execution_count": 61,
      "outputs": [
        {
          "output_type": "stream",
          "name": "stdout",
          "text": [
            "enter a number:6\n",
            "720\n"
          ]
        }
      ]
    },
    {
      "cell_type": "code",
      "source": [],
      "metadata": {
        "id": "PvBMWSz17nP0"
      },
      "execution_count": null,
      "outputs": []
    }
  ]
}